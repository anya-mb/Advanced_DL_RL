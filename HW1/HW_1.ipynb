{
 "cells": [
  {
   "cell_type": "markdown",
   "id": "50185283",
   "metadata": {},
   "source": [
    "# RL and Advanced DL: Домашнее задание 1"
   ]
  },
  {
   "cell_type": "markdown",
   "id": "4dbd2bff",
   "metadata": {},
   "source": [
    "Anna Beketova, ML-32"
   ]
  },
  {
   "cell_type": "markdown",
   "id": "023f9df8",
   "metadata": {},
   "source": [
    "## About Blackjack\n",
    "\n",
    "Blackjack is a card game where the goal is to beat the dealer by obtaining cards\n",
    "    that sum to closer to 21 (without going over 21) than the dealers cards.\n",
    "    \n",
    "### Description\n",
    "\n",
    "Card Values:\n",
    "\n",
    "    - Face cards (Jack, Queen, King) have a point value of 10.\n",
    "    - Aces can either count as 11 (called a 'usable ace') or 1.\n",
    "    - Numerical cards (2-9) have a value equal to their number.\n",
    "    \n",
    "   This game is played with an infinite deck (or with replacement). The game starts with the dealer having one face up and one face down card, while the player has two face up cards.\n",
    "\n",
    "The player can request additional cards (hit, action=1) until they decide to stop (stick, action=0)\n",
    "    or exceed 21 (bust, immediate loss).\n",
    "    After the player sticks, the dealer reveals their facedown card, and draws\n",
    "    until their sum is 17 or greater.  If the dealer goes bust, the player wins.\n",
    "    If neither the player nor the dealer busts, the outcome (win, lose, draw) is\n",
    "    decided by whose sum is closer to 21.\n",
    "    \n",
    "    \n",
    "### Action Space\n",
    "\n",
    "There are two actions: stick (0), and hit (1).\n",
    "\n",
    "### Observation Space\n",
    "   The observation consists of a 3-tuple containing: the player's current sum,\n",
    "    the value of the dealer's one showing card (1-10 where 1 is ace),\n",
    "    and whether the player holds a usable ace (0 or 1).\n",
    "    This environment corresponds to the version of the blackjack problem\n",
    "    described in Example 5.1 in Reinforcement Learning: An Introduction\n",
    "    by Sutton and Barto (http://incompleteideas.net/book/the-book-2nd.html).\n",
    "\n",
    "### Rewards\n",
    "\n",
    "* win game: +1\n",
    "* lose game: -1\n",
    "* draw game: 0\n",
    "* win game with natural blackjack:\n",
    "   \n",
    "   +1.5 (if 'natural' is True)\n",
    "   \n",
    "   +1 (if 'natural' is False)\n",
    "   \n",
    "Source: https://github.com/openai/gym/blob/master/gym/envs/toy_text/blackjack.py"
   ]
  },
  {
   "cell_type": "code",
   "execution_count": 1,
   "id": "75c4a3e9",
   "metadata": {},
   "outputs": [],
   "source": [
    "import sys\n",
    "import gym\n",
    "from collections import defaultdict\n",
    "import tqdm\n",
    "import numpy as np\n",
    "import matplotlib.pyplot as plt\n",
    "from mpl_toolkits.axes_grid1 import make_axes_locatable"
   ]
  },
  {
   "cell_type": "markdown",
   "id": "36756cc8",
   "metadata": {},
   "source": [
    "### Some usefull functions"
   ]
  },
  {
   "cell_type": "code",
   "execution_count": 2,
   "id": "ac4fd0eb",
   "metadata": {},
   "outputs": [],
   "source": [
    "def epsilon_greedy(Q, state, eps):\n",
    "    if np.random.random() > eps:\n",
    "        return np.argmax(Q[state])\n",
    "    else:\n",
    "        return env.action_space.sample()\n",
    "    \n",
    "\n",
    "def estimate_reward(Q, num_episodes=100000):\n",
    "    reward = 0.\n",
    "    \n",
    "    for i in range(num_episodes):\n",
    "        reward += generate_episode_from_Q(env, Q, 0, env.action_space.n)[-1][-1]\n",
    "    \n",
    "    return reward/num_episodes\n",
    "\n",
    "\n",
    "def get_probs(Q_s, epsilon, n_actions):\n",
    "    policy_s = np.ones(n_actions) * epsilon / n_actions\n",
    "    best_a = np.argmax(Q_s)\n",
    "    policy_s[best_a] = 1 - epsilon + (epsilon / n_actions)\n",
    "    return policy_s\n",
    "\n",
    "\n",
    "def policy_from_Q(Q):\n",
    "    return dict((k,np.argmax(v)) for k, v in Q.items())\n",
    "\n",
    "\n",
    "def generate_episode_from_Q(env, Q, epsilon, n_actions):\n",
    "    episode = []\n",
    "    state, _ = env.reset()\n",
    "    terminated = False\n",
    "    \n",
    "    while True:\n",
    "        action = np.random.choice(np.arange(n_actions), p=get_probs(Q[state], epsilon, n_actions)) \\\n",
    "            if state in Q else env.action_space.sample()\n",
    "        next_state, reward, terminated, _, _ = env.step(action)\n",
    "        episode.append((state, action, reward))\n",
    "        state = next_state\n",
    "        \n",
    "        if terminated:\n",
    "            break\n",
    "            \n",
    "    return episode\n",
    "\n",
    "\n",
    "def plot_policy(policy):\n",
    "\n",
    "    def get_Z(x, y, usable_ace):\n",
    "        if (x,y,usable_ace) in policy:\n",
    "            return policy[x,y,usable_ace]\n",
    "        else:\n",
    "            return 1\n",
    "\n",
    "    def get_figure(usable_ace, ax):\n",
    "        x_range = np.arange(11, 22)\n",
    "        y_range = np.arange(10, 0, -1)\n",
    "        X, Y = np.meshgrid(x_range, y_range)\n",
    "        \n",
    "        Z = np.array([[get_Z(x,y,usable_ace) for x in x_range] for y in y_range])\n",
    "        surf = ax.imshow(Z, cmap=plt.get_cmap('bone'), vmin=0, vmax=2, extent=[10.5, 21.5, 0.5, 10.5])\n",
    "        plt.xticks(x_range)\n",
    "        plt.yticks(y_range)\n",
    "        plt.gca().invert_yaxis()\n",
    "        \n",
    "        ax.set_xlabel('Player\\'s Current Sum')\n",
    "        ax.set_ylabel('Dealer\\'s Showing Card')\n",
    "        ax.grid(color='w', linestyle='-', linewidth=1)\n",
    "        \n",
    "        divider = make_axes_locatable(ax)\n",
    "        cax = divider.append_axes(\"right\", size=\"5%\", pad=0.1)\n",
    "        cbar = plt.colorbar(surf, ticks=[0,1,2], cax=cax)\n",
    "        cbar.ax.set_yticklabels(['0 (STICK)','1 (HIT)', '2 (DOUBLE)'])\n",
    "            \n",
    "    fig = plt.figure(figsize=(15, 15))\n",
    "    \n",
    "    ax = fig.add_subplot(121)\n",
    "    ax.set_title('Usable Ace')\n",
    "    get_figure(True, ax)\n",
    "    \n",
    "    ax = fig.add_subplot(122)\n",
    "    ax.set_title('No Usable Ace')\n",
    "    get_figure(False, ax)\n",
    "    plt.show()"
   ]
  },
  {
   "cell_type": "markdown",
   "id": "8e8f4127",
   "metadata": {},
   "source": [
    "### Little demo on Blackjack environment"
   ]
  },
  {
   "cell_type": "code",
   "execution_count": 4,
   "id": "601c932c",
   "metadata": {},
   "outputs": [
    {
     "name": "stdout",
     "output_type": "stream",
     "text": [
      "(8, 10, False) \n",
      "\n",
      "Player's hand: 8\n",
      "Dealer's one card: 10\n",
      "If player has usable ace: False\n",
      "\n",
      "Action: hit\n",
      "\n",
      "Next state: (13, 10, False)\n",
      "Reward: 0.0\n",
      "If the game is terminated: False\n",
      "\n",
      "Action: stick\n",
      "\n",
      "Next state: (13, 10, False)\n",
      "Reward: -1.0\n",
      "If the game is terminated: True\n"
     ]
    }
   ],
   "source": [
    "env = gym.make('Blackjack-v1', natural=True)\n",
    "\n",
    "state, _ = env.reset()\n",
    "print(state, '\\n')\n",
    "print(f\"Player's hand: {state[0]}\")\n",
    "print(f\"Dealer's one card: {state[1]}\")\n",
    "print(f\"If player has usable ace: {state[2]}\\n\")\n",
    "\n",
    "action = 1 # hit - draw one more card\n",
    "print(\"Action: hit\\n\")\n",
    "\n",
    "next_state, reward, terminated, info, _ = env.step(action)\n",
    "print(f\"Next state: {next_state}\")\n",
    "print(f\"Reward: {reward}\")\n",
    "print(f\"If the game is terminated: {terminated}\\n\")\n",
    "\n",
    "action = 0 # stick - stop\n",
    "print(\"Action: stick\\n\")\n",
    "\n",
    "next_state, reward, terminated, _, _ = env.step(action)\n",
    "print(f\"Next state: {next_state}\")\n",
    "print(f\"Reward: {reward}\")\n",
    "print(f\"If the game is terminated: {terminated}\")"
   ]
  },
  {
   "cell_type": "code",
   "execution_count": 3,
   "id": "e0158f33",
   "metadata": {},
   "outputs": [],
   "source": [
    "N_verbose_batch_size = 1000\n",
    "N_iterations = 100000"
   ]
  },
  {
   "cell_type": "markdown",
   "id": "80a6a5d4",
   "metadata": {},
   "source": [
    "## Часть первая, с блекджеком и стратегиями\n",
    "\n",
    "\n",
    "## Задания\n",
    "\n",
    "1. Рассмотрим очень простую стратегию: говорить stand, если у нас на руках комбинация в 19, 20 или 21 очко, во всех остальных случаях говорить hit. Используйте методы Монте-Карло, чтобы оценить выигрыш от этой стратегии.\n",
    "2. Реализуйте метод обучения с подкреплением без модели (можно Q-обучение, но рекомендую попробовать и другие, например Monte Carlo control) для обучения стратегии в блекджеке, используя окружение BlackjackEnv из OpenAI Gym.\n",
    "3. Сколько выигрывает казино у вашей стратегии? Нарисуйте графики среднего дохода вашего метода (усреднённого по крайней мере по 100000 раздач, а лучше больше) по ходу обучения. Попробуйте подобрать оптимальные гиперпараметры."
   ]
  },
  {
   "cell_type": "markdown",
   "id": "ecf8ca3e",
   "metadata": {},
   "source": [
    "Simple strategy: 'stick' action (value 0) if player has 19, 20, 21 in hand, 'hit' action (value 1) - otherwise."
   ]
  },
  {
   "cell_type": "code",
   "execution_count": 5,
   "id": "d88e6d23",
   "metadata": {},
   "outputs": [],
   "source": [
    "def action_by_simple_strategy(player_hand_value):\n",
    "    return int(player_hand_value < 19)\n",
    "\n",
    "def generate_episode_simple_strategy(env):\n",
    "    episode = []\n",
    "    state, _ = env.reset()\n",
    "    \n",
    "    while True:\n",
    "        players_hand = state[0]\n",
    "        action = action_by_simple_strategy(players_hand)\n",
    "        next_state, reward, terminated, _, _ = env.step(action)\n",
    "        episode.append((next_state, action, reward))\n",
    "        state = next_state\n",
    "        \n",
    "        if terminated:\n",
    "            break\n",
    "            \n",
    "    return episode"
   ]
  },
  {
   "cell_type": "code",
   "execution_count": 6,
   "id": "a90c0559",
   "metadata": {},
   "outputs": [],
   "source": [
    "env = gym.make('Blackjack-v1', natural=True)"
   ]
  },
  {
   "cell_type": "code",
   "execution_count": 7,
   "id": "66a8f570",
   "metadata": {},
   "outputs": [
    {
     "name": "stderr",
     "output_type": "stream",
     "text": [
      "100%|██████████| 1000000/1000000 [02:43<00:00, 6106.97it/s]"
     ]
    },
    {
     "name": "stdout",
     "output_type": "stream",
     "text": [
      "Average reward for simple strategy: -0.198529\n"
     ]
    },
    {
     "name": "stderr",
     "output_type": "stream",
     "text": [
      "\n"
     ]
    }
   ],
   "source": [
    "reward = 0.\n",
    "N_iterations = 1000000\n",
    "\n",
    "for i in tqdm.tqdm(range(N_iterations)):\n",
    "    reward += generate_episode_simple_strategy(env)[-1][-1]\n",
    "    \n",
    "print(f\"Average reward for simple strategy: {reward / N_iterations}\")"
   ]
  },
  {
   "cell_type": "markdown",
   "id": "40b711c2",
   "metadata": {},
   "source": [
    "### Q-learning"
   ]
  },
  {
   "cell_type": "code",
   "execution_count": 9,
   "id": "7306e3bd",
   "metadata": {},
   "outputs": [],
   "source": [
    "env = gym.make('Blackjack-v1', natural=True)\n",
    "\n",
    "N_verbose_batch_size = 1000\n",
    "N_iterations = 100000"
   ]
  },
  {
   "cell_type": "code",
   "execution_count": 10,
   "id": "fec61fdf",
   "metadata": {},
   "outputs": [],
   "source": [
    "def q_learning(env, num_episodes, alpha, gamma=1.0, eps_min=0.01, \n",
    "               verbose=True, verbose_batch_size=50000, print_every=10):\n",
    "    \n",
    "    n_actions = env.action_space.n\n",
    "    Q = defaultdict(lambda: np.zeros(n_actions))\n",
    "    total_reward = 0.\n",
    "    rewards = []\n",
    "    \n",
    "    print_counter = 0\n",
    "    \n",
    "    for i in range(num_episodes):\n",
    "        state, _ = env.reset()\n",
    "        eps = max(1.0 / (i+1), eps_min)\n",
    "        \n",
    "        while True:\n",
    "            action = epsilon_greedy(Q, state, eps)\n",
    "            next_state, cur_reward, terminated, _, _ = env.step(action)\n",
    "            total_reward += cur_reward\n",
    "            Q[state][action] = update_Q_qlearning(alpha, gamma, Q, state, action, cur_reward, next_state)\n",
    "            state = next_state\n",
    "            \n",
    "            if terminated:\n",
    "                break\n",
    "        \n",
    "        if i % verbose_batch_size == 0 and i > 0 and verbose:\n",
    "            print(f\"Episode {i} / {num_episodes}. Avg reward: {total_reward/verbose_batch_size}\")\n",
    "            total_reward = 0.\n",
    "            rewards.append(estimate_reward(Q))\n",
    "    return Q, rewards\n",
    "\n",
    "def update_Q_qlearning(alpha, gamma, Q, state, action, reward, next_state=None):\n",
    "    \n",
    "    current = Q[state][action]\n",
    "    Qsa_optimal_furure_value = np.max(Q[next_state]) if next_state is not None else 0\n",
    "    new_value = current + alpha * (reward + (gamma * Qsa_optimal_furure_value) - current)\n",
    "    \n",
    "    return new_value"
   ]
  },
  {
   "cell_type": "code",
   "execution_count": 11,
   "id": "581e2b57",
   "metadata": {},
   "outputs": [
    {
     "name": "stdout",
     "output_type": "stream",
     "text": [
      "epsilon=0.001, reward=-0.13199\n",
      "epsilon=0.005, reward=-0.14490\n",
      "epsilon=0.01, reward=-0.13069\n",
      "epsilon=0.05, reward=-0.10976\n",
      "epsilon=0.1, reward=-0.13095\n",
      "epsilon=0.2, reward=-0.12399\n",
      "CPU times: user 7min 53s, sys: 750 ms, total: 7min 54s\n",
      "Wall time: 7min 54s\n"
     ]
    }
   ],
   "source": [
    "%%time\n",
    "\n",
    "for eps_min in [0.001, 0.005, 0.01, 0.05, 0.1, 0.2]:\n",
    "    tries = 5\n",
    "    reward = 0\n",
    "    \n",
    "    for i in range(tries):\n",
    "        Q, rewards = q_learning(env, num_episodes=1000, alpha=0.01, eps_min=eps_min, verbose=False)\n",
    "        reward += estimate_reward(Q)\n",
    "        \n",
    "    print(f'epsilon={eps_min}, reward={(reward / tries):.5f}')"
   ]
  },
  {
   "cell_type": "code",
   "execution_count": 12,
   "id": "cac57176",
   "metadata": {},
   "outputs": [
    {
     "name": "stdout",
     "output_type": "stream",
     "text": [
      "alpha=0.0001, reward=-0.12004\n",
      "alpha=0.001, reward=-0.12150\n",
      "alpha=0.01, reward=-0.12242\n",
      "alpha=0.1, reward=-0.13476\n",
      "alpha=0.25, reward=-0.15549\n",
      "alpha=0.5, reward=-0.17024\n",
      "alpha=0.75, reward=-0.19422\n",
      "alpha=0.9, reward=-0.17715\n",
      "alpha=0.95, reward=-0.17602\n",
      "CPU times: user 12min 8s, sys: 1.05 s, total: 12min 9s\n",
      "Wall time: 12min 9s\n"
     ]
    }
   ],
   "source": [
    "%%time\n",
    "for alpha in [0.0001, 0.001, 0.01, 0.1, 0.25, 0.5, 0.75, 0.9, 0.95]:\n",
    "    tries = 5\n",
    "    reward = 0\n",
    "    \n",
    "    for i in range(tries):\n",
    "        Q, rewards = q_learning(env, num_episodes=1000, alpha=alpha, eps_min=0.05, verbose=False)\n",
    "        reward += estimate_reward(Q)\n",
    "        \n",
    "    print(f'alpha={alpha}, reward={(reward / tries):.5f}')"
   ]
  },
  {
   "cell_type": "code",
   "execution_count": 13,
   "id": "f0532d04",
   "metadata": {},
   "outputs": [
    {
     "name": "stdout",
     "output_type": "stream",
     "text": [
      "Episode 1000 / 100000. Avg reward: -0.159\n",
      "Episode 2000 / 100000. Avg reward: -0.139\n",
      "Episode 3000 / 100000. Avg reward: -0.096\n",
      "Episode 4000 / 100000. Avg reward: -0.134\n",
      "Episode 5000 / 100000. Avg reward: -0.123\n",
      "Episode 6000 / 100000. Avg reward: -0.091\n",
      "Episode 7000 / 100000. Avg reward: -0.05\n",
      "Episode 8000 / 100000. Avg reward: -0.058\n",
      "Episode 9000 / 100000. Avg reward: -0.068\n",
      "Episode 10000 / 100000. Avg reward: -0.101\n",
      "Episode 11000 / 100000. Avg reward: -0.091\n",
      "Episode 12000 / 100000. Avg reward: -0.122\n",
      "Episode 13000 / 100000. Avg reward: -0.054\n",
      "Episode 14000 / 100000. Avg reward: -0.082\n",
      "Episode 15000 / 100000. Avg reward: -0.054\n",
      "Episode 16000 / 100000. Avg reward: -0.137\n",
      "Episode 17000 / 100000. Avg reward: -0.131\n",
      "Episode 18000 / 100000. Avg reward: -0.076\n",
      "Episode 19000 / 100000. Avg reward: -0.098\n",
      "Episode 20000 / 100000. Avg reward: -0.026\n",
      "Episode 21000 / 100000. Avg reward: -0.069\n",
      "Episode 22000 / 100000. Avg reward: -0.06\n",
      "Episode 23000 / 100000. Avg reward: -0.054\n",
      "Episode 24000 / 100000. Avg reward: -0.094\n",
      "Episode 25000 / 100000. Avg reward: -0.089\n",
      "Episode 26000 / 100000. Avg reward: -0.042\n",
      "Episode 27000 / 100000. Avg reward: -0.11\n",
      "Episode 28000 / 100000. Avg reward: -0.099\n",
      "Episode 29000 / 100000. Avg reward: -0.101\n",
      "Episode 30000 / 100000. Avg reward: -0.108\n",
      "Episode 31000 / 100000. Avg reward: -0.123\n",
      "Episode 32000 / 100000. Avg reward: -0.144\n",
      "Episode 33000 / 100000. Avg reward: -0.093\n",
      "Episode 34000 / 100000. Avg reward: -0.059\n",
      "Episode 35000 / 100000. Avg reward: -0.077\n",
      "Episode 36000 / 100000. Avg reward: -0.048\n",
      "Episode 37000 / 100000. Avg reward: -0.103\n",
      "Episode 38000 / 100000. Avg reward: -0.092\n",
      "Episode 39000 / 100000. Avg reward: -0.095\n",
      "Episode 40000 / 100000. Avg reward: -0.086\n",
      "Episode 41000 / 100000. Avg reward: -0.092\n",
      "Episode 42000 / 100000. Avg reward: -0.062\n",
      "Episode 43000 / 100000. Avg reward: -0.104\n",
      "Episode 44000 / 100000. Avg reward: -0.07\n",
      "Episode 45000 / 100000. Avg reward: -0.095\n",
      "Episode 46000 / 100000. Avg reward: -0.144\n",
      "Episode 47000 / 100000. Avg reward: -0.081\n",
      "Episode 48000 / 100000. Avg reward: -0.163\n",
      "Episode 49000 / 100000. Avg reward: -0.085\n",
      "Episode 50000 / 100000. Avg reward: -0.07\n",
      "Episode 51000 / 100000. Avg reward: -0.126\n",
      "Episode 52000 / 100000. Avg reward: -0.093\n",
      "Episode 53000 / 100000. Avg reward: -0.105\n",
      "Episode 54000 / 100000. Avg reward: -0.093\n",
      "Episode 55000 / 100000. Avg reward: -0.045\n",
      "Episode 56000 / 100000. Avg reward: -0.117\n",
      "Episode 57000 / 100000. Avg reward: -0.065\n",
      "Episode 58000 / 100000. Avg reward: -0.112\n",
      "Episode 59000 / 100000. Avg reward: -0.102\n",
      "Episode 60000 / 100000. Avg reward: -0.129\n",
      "Episode 61000 / 100000. Avg reward: -0.095\n",
      "Episode 62000 / 100000. Avg reward: -0.075\n",
      "Episode 63000 / 100000. Avg reward: -0.123\n",
      "Episode 64000 / 100000. Avg reward: -0.133\n",
      "Episode 65000 / 100000. Avg reward: -0.09\n",
      "Episode 66000 / 100000. Avg reward: -0.124\n",
      "Episode 67000 / 100000. Avg reward: -0.098\n",
      "Episode 68000 / 100000. Avg reward: -0.088\n",
      "Episode 69000 / 100000. Avg reward: -0.12\n",
      "Episode 70000 / 100000. Avg reward: -0.078\n",
      "Episode 71000 / 100000. Avg reward: -0.081\n",
      "Episode 72000 / 100000. Avg reward: -0.058\n",
      "Episode 73000 / 100000. Avg reward: -0.073\n",
      "Episode 74000 / 100000. Avg reward: -0.102\n",
      "Episode 75000 / 100000. Avg reward: -0.08\n",
      "Episode 76000 / 100000. Avg reward: -0.115\n",
      "Episode 77000 / 100000. Avg reward: -0.095\n",
      "Episode 78000 / 100000. Avg reward: -0.128\n",
      "Episode 79000 / 100000. Avg reward: -0.072\n",
      "Episode 80000 / 100000. Avg reward: -0.09\n",
      "Episode 81000 / 100000. Avg reward: -0.111\n",
      "Episode 82000 / 100000. Avg reward: -0.105\n",
      "Episode 83000 / 100000. Avg reward: -0.107\n",
      "Episode 84000 / 100000. Avg reward: -0.114\n",
      "Episode 85000 / 100000. Avg reward: -0.123\n",
      "Episode 86000 / 100000. Avg reward: -0.07\n",
      "Episode 87000 / 100000. Avg reward: -0.066\n",
      "Episode 88000 / 100000. Avg reward: -0.098\n",
      "Episode 89000 / 100000. Avg reward: -0.087\n",
      "Episode 90000 / 100000. Avg reward: -0.116\n",
      "Episode 91000 / 100000. Avg reward: -0.07\n",
      "Episode 92000 / 100000. Avg reward: -0.04\n",
      "Episode 93000 / 100000. Avg reward: -0.146\n",
      "Episode 94000 / 100000. Avg reward: -0.114\n",
      "Episode 95000 / 100000. Avg reward: -0.092\n",
      "Episode 96000 / 100000. Avg reward: -0.058\n",
      "Episode 97000 / 100000. Avg reward: -0.069\n",
      "Episode 98000 / 100000. Avg reward: 0.006\n",
      "Episode 99000 / 100000. Avg reward: -0.072\n",
      "CPU times: user 27min 5s, sys: 2.35 s, total: 27min 7s\n",
      "Wall time: 27min 8s\n"
     ]
    }
   ],
   "source": [
    "%%time\n",
    "\n",
    "N_verbose_batch_size = 1000\n",
    "N_iterations = 100000\n",
    "\n",
    "Q, rewards = q_learning(env, N_iterations, alpha=0.001, gamma=0.95, \n",
    "                        eps_min=0.005, verbose_batch_size=N_verbose_batch_size)"
   ]
  },
  {
   "cell_type": "code",
   "execution_count": 14,
   "id": "1117429f",
   "metadata": {},
   "outputs": [
    {
     "data": {
      "text/plain": [
       "-0.109"
      ]
     },
     "execution_count": 14,
     "metadata": {},
     "output_type": "execute_result"
    }
   ],
   "source": [
    "# estimated reward\n",
    "estimate_reward(Q)"
   ]
  },
  {
   "cell_type": "code",
   "execution_count": 15,
   "id": "59eb6839",
   "metadata": {},
   "outputs": [
    {
     "data": {
      "image/png": "[encoded data removed]",
      "text/plain": [
       "<Figure size 432x288 with 1 Axes>"
      ]
     },
     "metadata": {
      "needs_background": "light"
     },
     "output_type": "display_data"
    }
   ],
   "source": [
    "plt.title(\"Rewards during Q-learning process\")\n",
    "plt.plot(list(range(len(rewards))), rewards)\n",
    "plt.ylabel(\"Average reward\")\n",
    "plt.xlabel(\"Learning iteration, x1000\")\n",
    "plt.show()"
   ]
  },
  {
   "cell_type": "code",
   "execution_count": 16,
   "id": "18cf4ec4",
   "metadata": {},
   "outputs": [],
   "source": [
    "policy = policy_from_Q(Q)"
   ]
  },
  {
   "cell_type": "code",
   "execution_count": 17,
   "id": "85658a38",
   "metadata": {},
   "outputs": [
    {
     "data": {
      "image/png": "[encoded data removed]",
      "text/plain": [
       "<Figure size 1080x1080 with 4 Axes>"
      ]
     },
     "metadata": {
      "needs_background": "light"
     },
     "output_type": "display_data"
    }
   ],
   "source": [
    "plot_policy(policy)"
   ]
  },
  {
   "cell_type": "markdown",
   "id": "faeac302",
   "metadata": {},
   "source": [
    "## Monte Carlo control"
   ]
  },
  {
   "cell_type": "code",
   "execution_count": 18,
   "id": "c87a8e55",
   "metadata": {},
   "outputs": [],
   "source": [
    "def update_Q(env, episode, Q, alpha, gamma):\n",
    "    states, actions, rewards = zip(*episode)\n",
    "    discounts = np.array([gamma**i for i in range(len(rewards) + 1)])\n",
    "    \n",
    "    for i, state in enumerate(states):\n",
    "        old_Q = Q[state][actions[i]]\n",
    "        Q[state][actions[i]] = old_Q + alpha * (sum(rewards[i:] * discounts[:-(1+i)]) - old_Q)\n",
    "    \n",
    "    return Q\n",
    "\n",
    "def montecarlo_control(env, num_episodes, alpha, gamma=1.0, eps_min=0.01, verbose=True, verbose_batch_size=5000):\n",
    "    n_actions = env.action_space.n\n",
    "    Q = defaultdict(lambda: np.zeros(n_actions))\n",
    "    total_reward = 0.\n",
    "    rewards = []\n",
    "    \n",
    "    for i in range(num_episodes):\n",
    "        eps = max(1.0 / (i+1), eps_min)\n",
    "        episode = generate_episode_from_Q(env, Q, eps, n_actions)\n",
    "        Q = update_Q(env, episode, Q, alpha, gamma)\n",
    "        cur_reward = episode[-1][-1]\n",
    "        total_reward += cur_reward\n",
    "        \n",
    "        if i % verbose_batch_size == 0 and i > 0 and verbose:\n",
    "            print(f\"Episode {i} / {num_episodes}. Avg reward: {total_reward/verbose_batch_size}\")\n",
    "            total_reward = 0.\n",
    "            rewards.append(estimate_reward(Q))\n",
    "            \n",
    "    return Q, rewards"
   ]
  },
  {
   "cell_type": "code",
   "execution_count": 19,
   "id": "ca4bc2b6",
   "metadata": {
    "scrolled": true
   },
   "outputs": [
    {
     "name": "stdout",
     "output_type": "stream",
     "text": [
      "epsilon=0.001, reward=-0.15756\n",
      "epsilon=0.005, reward=-0.14115\n",
      "epsilon=0.01, reward=-0.14720\n",
      "epsilon=0.05, reward=-0.15388\n",
      "epsilon=0.1, reward=-0.14432\n",
      "epsilon=0.2, reward=-0.15152\n",
      "CPU times: user 7min 37s, sys: 567 ms, total: 7min 37s\n",
      "Wall time: 7min 37s\n"
     ]
    }
   ],
   "source": [
    "%%time\n",
    "\n",
    "for eps_min in [0.001, 0.005, 0.01, 0.05, 0.1, 0.2]:\n",
    "    tries = 5\n",
    "    reward = 0\n",
    "    \n",
    "    for i in range(tries):\n",
    "        Q, rewards = montecarlo_control(env, num_episodes=1000, alpha=0.01, eps_min=eps_min, verbose=False)\n",
    "        reward += estimate_reward(Q)\n",
    "        \n",
    "    print(f'epsilon={eps_min}, reward={(reward / tries):.5f}')"
   ]
  },
  {
   "cell_type": "code",
   "execution_count": 20,
   "id": "513df08f",
   "metadata": {},
   "outputs": [
    {
     "name": "stdout",
     "output_type": "stream",
     "text": [
      "alpha=0.0001, reward=-0.13885\n",
      "alpha=0.001, reward=-0.13602\n",
      "alpha=0.01, reward=-0.14210\n",
      "alpha=0.1, reward=-0.15054\n",
      "alpha=0.2, reward=-0.14151\n",
      "CPU times: user 6min 21s, sys: 458 ms, total: 6min 21s\n",
      "Wall time: 6min 21s\n"
     ]
    }
   ],
   "source": [
    "%%time\n",
    "for alpha in [0.0001, 0.001, 0.01, 0.1, 0.2]:\n",
    "    tries = 5\n",
    "    reward = 0\n",
    "    \n",
    "    for i in range(tries):\n",
    "        Q, rewards = montecarlo_control(env, num_episodes=1000, alpha=alpha, eps_min=0.01, verbose=False)\n",
    "        reward += estimate_reward(Q)\n",
    "        \n",
    "    print(f'alpha={alpha}, reward={(reward / tries):.5f}')"
   ]
  },
  {
   "cell_type": "code",
   "execution_count": 21,
   "id": "72a2220e",
   "metadata": {},
   "outputs": [
    {
     "name": "stdout",
     "output_type": "stream",
     "text": [
      "gamma=0.5, reward=-0.13250\n",
      "gamma=0.6, reward=-0.13789\n",
      "gamma=0.7, reward=-0.15016\n",
      "gamma=0.8, reward=-0.13507\n",
      "gamma=0.9, reward=-0.14390\n",
      "gamma=0.95, reward=-0.14882\n",
      "gamma=1.0, reward=-0.15643\n",
      "CPU times: user 9min 4s, sys: 688 ms, total: 9min 4s\n",
      "Wall time: 9min 4s\n"
     ]
    }
   ],
   "source": [
    "%%time\n",
    "for gamma in [0.5, 0.6, 0.7, 0.8, 0.9, 0.95, 1.0]:\n",
    "    tries = 5\n",
    "    reward = 0\n",
    "    \n",
    "    for i in range(tries):\n",
    "        Q, rewards = montecarlo_control(env, num_episodes=1000, \n",
    "                                alpha=0.1, eps_min=0.01, gamma=gamma, verbose=False)\n",
    "        reward += estimate_reward(Q)\n",
    "        \n",
    "    print(f'gamma={gamma}, reward={(reward / tries):.5f}')"
   ]
  },
  {
   "cell_type": "code",
   "execution_count": 22,
   "id": "7926e59d",
   "metadata": {},
   "outputs": [
    {
     "name": "stdout",
     "output_type": "stream",
     "text": [
      "Episode 1000 / 100000. Avg reward: -0.18\n",
      "Episode 2000 / 100000. Avg reward: -0.123\n",
      "Episode 3000 / 100000. Avg reward: -0.131\n",
      "Episode 4000 / 100000. Avg reward: -0.105\n",
      "Episode 5000 / 100000. Avg reward: -0.139\n",
      "Episode 6000 / 100000. Avg reward: -0.078\n",
      "Episode 7000 / 100000. Avg reward: -0.084\n",
      "Episode 8000 / 100000. Avg reward: -0.1\n",
      "Episode 9000 / 100000. Avg reward: -0.068\n",
      "Episode 10000 / 100000. Avg reward: -0.112\n",
      "Episode 11000 / 100000. Avg reward: -0.172\n",
      "Episode 12000 / 100000. Avg reward: -0.144\n",
      "Episode 13000 / 100000. Avg reward: -0.093\n",
      "Episode 14000 / 100000. Avg reward: -0.101\n",
      "Episode 15000 / 100000. Avg reward: -0.05\n",
      "Episode 16000 / 100000. Avg reward: 0.001\n",
      "Episode 17000 / 100000. Avg reward: -0.067\n",
      "Episode 18000 / 100000. Avg reward: -0.072\n",
      "Episode 19000 / 100000. Avg reward: -0.098\n",
      "Episode 20000 / 100000. Avg reward: -0.022\n",
      "Episode 21000 / 100000. Avg reward: -0.088\n",
      "Episode 22000 / 100000. Avg reward: -0.059\n",
      "Episode 23000 / 100000. Avg reward: -0.093\n",
      "Episode 24000 / 100000. Avg reward: -0.028\n",
      "Episode 25000 / 100000. Avg reward: -0.085\n",
      "Episode 26000 / 100000. Avg reward: -0.048\n",
      "Episode 27000 / 100000. Avg reward: -0.115\n",
      "Episode 28000 / 100000. Avg reward: -0.019\n",
      "Episode 29000 / 100000. Avg reward: -0.055\n",
      "Episode 30000 / 100000. Avg reward: -0.018\n",
      "Episode 31000 / 100000. Avg reward: -0.065\n",
      "Episode 32000 / 100000. Avg reward: -0.096\n",
      "Episode 33000 / 100000. Avg reward: -0.095\n",
      "Episode 34000 / 100000. Avg reward: -0.05\n",
      "Episode 35000 / 100000. Avg reward: -0.079\n",
      "Episode 36000 / 100000. Avg reward: -0.024\n",
      "Episode 37000 / 100000. Avg reward: -0.113\n",
      "Episode 38000 / 100000. Avg reward: -0.083\n",
      "Episode 39000 / 100000. Avg reward: -0.058\n",
      "Episode 40000 / 100000. Avg reward: -0.13\n",
      "Episode 41000 / 100000. Avg reward: -0.039\n",
      "Episode 42000 / 100000. Avg reward: -0.089\n",
      "Episode 43000 / 100000. Avg reward: -0.047\n",
      "Episode 44000 / 100000. Avg reward: -0.047\n",
      "Episode 45000 / 100000. Avg reward: -0.145\n",
      "Episode 46000 / 100000. Avg reward: -0.032\n",
      "Episode 47000 / 100000. Avg reward: -0.07\n",
      "Episode 48000 / 100000. Avg reward: -0.092\n",
      "Episode 49000 / 100000. Avg reward: -0.078\n",
      "Episode 50000 / 100000. Avg reward: -0.051\n",
      "Episode 51000 / 100000. Avg reward: -0.055\n",
      "Episode 52000 / 100000. Avg reward: -0.11\n",
      "Episode 53000 / 100000. Avg reward: -0.047\n",
      "Episode 54000 / 100000. Avg reward: -0.063\n",
      "Episode 55000 / 100000. Avg reward: -0.123\n",
      "Episode 56000 / 100000. Avg reward: -0.053\n",
      "Episode 57000 / 100000. Avg reward: -0.049\n",
      "Episode 58000 / 100000. Avg reward: -0.078\n",
      "Episode 59000 / 100000. Avg reward: -0.049\n",
      "Episode 60000 / 100000. Avg reward: -0.022\n",
      "Episode 61000 / 100000. Avg reward: -0.085\n",
      "Episode 62000 / 100000. Avg reward: -0.119\n",
      "Episode 63000 / 100000. Avg reward: -0.069\n",
      "Episode 64000 / 100000. Avg reward: -0.081\n",
      "Episode 65000 / 100000. Avg reward: -0.053\n",
      "Episode 66000 / 100000. Avg reward: -0.102\n",
      "Episode 67000 / 100000. Avg reward: -0.002\n",
      "Episode 68000 / 100000. Avg reward: -0.07\n",
      "Episode 69000 / 100000. Avg reward: -0.032\n",
      "Episode 70000 / 100000. Avg reward: -0.104\n",
      "Episode 71000 / 100000. Avg reward: -0.067\n",
      "Episode 72000 / 100000. Avg reward: -0.058\n",
      "Episode 73000 / 100000. Avg reward: -0.059\n",
      "Episode 74000 / 100000. Avg reward: -0.136\n",
      "Episode 75000 / 100000. Avg reward: -0.069\n",
      "Episode 76000 / 100000. Avg reward: -0.06\n",
      "Episode 77000 / 100000. Avg reward: -0.07\n",
      "Episode 78000 / 100000. Avg reward: -0.065\n",
      "Episode 79000 / 100000. Avg reward: -0.061\n",
      "Episode 80000 / 100000. Avg reward: -0.059\n",
      "Episode 81000 / 100000. Avg reward: -0.049\n",
      "Episode 82000 / 100000. Avg reward: -0.085\n",
      "Episode 83000 / 100000. Avg reward: -0.035\n",
      "Episode 84000 / 100000. Avg reward: -0.059\n",
      "Episode 85000 / 100000. Avg reward: -0.049\n",
      "Episode 86000 / 100000. Avg reward: -0.068\n",
      "Episode 87000 / 100000. Avg reward: -0.088\n",
      "Episode 88000 / 100000. Avg reward: -0.044\n",
      "Episode 89000 / 100000. Avg reward: -0.12\n",
      "Episode 90000 / 100000. Avg reward: -0.152\n",
      "Episode 91000 / 100000. Avg reward: -0.085\n",
      "Episode 92000 / 100000. Avg reward: -0.023\n",
      "Episode 93000 / 100000. Avg reward: -0.053\n",
      "Episode 94000 / 100000. Avg reward: -0.024\n",
      "Episode 95000 / 100000. Avg reward: -0.05\n",
      "Episode 96000 / 100000. Avg reward: 0.012\n",
      "Episode 97000 / 100000. Avg reward: -0.054\n",
      "Episode 98000 / 100000. Avg reward: -0.121\n",
      "Episode 99000 / 100000. Avg reward: -0.03\n",
      "CPU times: user 27min 19s, sys: 2.17 s, total: 27min 22s\n",
      "Wall time: 27min 22s\n"
     ]
    }
   ],
   "source": [
    "%%time\n",
    "\n",
    "Q, rewards = montecarlo_control(env, N_iterations, \n",
    "                                alpha=0.1, eps_min=0.01, gamma=0.8,\n",
    "                                verbose_batch_size=N_verbose_batch_size)"
   ]
  },
  {
   "cell_type": "code",
   "execution_count": 23,
   "id": "3b03172d",
   "metadata": {},
   "outputs": [
    {
     "data": {
      "text/plain": [
       "-0.05551"
      ]
     },
     "execution_count": 23,
     "metadata": {},
     "output_type": "execute_result"
    }
   ],
   "source": [
    "# estimated reward\n",
    "estimate_reward(Q)"
   ]
  },
  {
   "cell_type": "code",
   "execution_count": 24,
   "id": "1387f8e7",
   "metadata": {},
   "outputs": [
    {
     "data": {
      "image/png": "[encoded data removed]",
      "text/plain": [
       "<Figure size 432x288 with 1 Axes>"
      ]
     },
     "metadata": {
      "needs_background": "light"
     },
     "output_type": "display_data"
    }
   ],
   "source": [
    "plt.plot(list(range(len(rewards))), rewards)\n",
    "plt.title(\"rewards during learning process\")\n",
    "plt.ylabel(\"average reward\")\n",
    "plt.xlabel(\"learning iteration, x1000\")\n",
    "plt.show()"
   ]
  },
  {
   "cell_type": "code",
   "execution_count": 25,
   "id": "b4766eca",
   "metadata": {},
   "outputs": [],
   "source": [
    "policy = policy_from_Q(Q)"
   ]
  },
  {
   "cell_type": "code",
   "execution_count": 26,
   "id": "40ba5187",
   "metadata": {},
   "outputs": [
    {
     "data": {
      "image/png": "[encoded data removed]",
      "text/plain": [
       "<Figure size 1080x1080 with 4 Axes>"
      ]
     },
     "metadata": {
      "needs_background": "light"
     },
     "output_type": "display_data"
    }
   ],
   "source": [
    "plot_policy(policy)"
   ]
  },
  {
   "cell_type": "markdown",
   "id": "f091ba92",
   "metadata": {},
   "source": [
    "## Часть вторая, удвоенная\n",
    "\n",
    "В базовый блекджек, описанный в предыдущем разделе, обыграть казино вряд ли\n",
    "получится. Но, к счастью, на этом история не заканчивается. Описанные выше правила\n",
    "были упрощёнными, а на самом деле у игрока есть ещё и другие возможности.\n",
    "Реализовывать split может оказаться непросто, поэтому давайте ограничимся удвоением\n",
    "ставки. Итак, у игрока появляется дополнительное действие:\n",
    "* double — удвоить ставку; при этом больше действий делать нельзя, игроку\n",
    "выдаётся ровно одна дополнительная карта, а выигрыш или проигрыш\n",
    "удваивается.\n",
    "\n",
    "4. Реализуйте новый вариант блекджека на основе окружения BlackjackEnv из OpenAI\n",
    "Gym, в котором разрешено удвоение ставки.\n",
    "5. Реализуйте метод обучения с подкреплением без модели для этого варианта,\n",
    "постройте графики, аналогичные п.2."
   ]
  },
  {
   "cell_type": "code",
   "execution_count": 28,
   "id": "4fa7a2cd",
   "metadata": {},
   "outputs": [],
   "source": [
    "from blackjack_double import BlackjackEnvDouble\n",
    "\n",
    "env = BlackjackEnvDouble(natural=True)"
   ]
  },
  {
   "cell_type": "code",
   "execution_count": 29,
   "id": "4a1d60dd",
   "metadata": {},
   "outputs": [
    {
     "data": {
      "text/plain": [
       "((12, 10, False), -2.0, True, False, {})"
      ]
     },
     "execution_count": 29,
     "metadata": {},
     "output_type": "execute_result"
    }
   ],
   "source": [
    "env.reset()\n",
    "\n",
    "# check that new action 'double' is available\n",
    "env.step(2)"
   ]
  },
  {
   "cell_type": "code",
   "execution_count": 30,
   "id": "3641f19c",
   "metadata": {},
   "outputs": [
    {
     "name": "stdout",
     "output_type": "stream",
     "text": [
      "epsilon=0.001, reward=-0.21927\n",
      "epsilon=0.005, reward=-0.19345\n",
      "epsilon=0.01, reward=-0.23956\n",
      "epsilon=0.05, reward=-0.22511\n",
      "epsilon=0.1, reward=-0.21255\n",
      "epsilon=0.2, reward=-0.22328\n",
      "CPU times: user 6min 4s, sys: 423 ms, total: 6min 4s\n",
      "Wall time: 6min 4s\n"
     ]
    }
   ],
   "source": [
    "%%time\n",
    "\n",
    "for eps_min in [0.001, 0.005, 0.01, 0.05, 0.1, 0.2]:\n",
    "    tries = 5\n",
    "    reward = 0\n",
    "    \n",
    "    for i in range(tries):\n",
    "        Q, rewards = montecarlo_control(env, num_episodes=1000, alpha=0.01, eps_min=eps_min, verbose=False)\n",
    "        reward += estimate_reward(Q)\n",
    "        \n",
    "    print(f'epsilon={eps_min}, reward={(reward / tries):.5f}')"
   ]
  },
  {
   "cell_type": "code",
   "execution_count": 31,
   "id": "6e886f68",
   "metadata": {},
   "outputs": [
    {
     "name": "stdout",
     "output_type": "stream",
     "text": [
      "alpha=0.0001, reward=-0.21334\n",
      "alpha=0.001, reward=-0.24168\n",
      "alpha=0.01, reward=-0.20544\n",
      "alpha=0.1, reward=-0.22031\n",
      "alpha=0.2, reward=-0.23946\n",
      "alpha=0.3, reward=-0.20341\n",
      "alpha=0.4, reward=-0.19888\n",
      "alpha=0.5, reward=-0.22823\n",
      "alpha=0.6, reward=-0.20052\n",
      "alpha=0.7, reward=-0.22011\n",
      "alpha=0.8, reward=-0.21293\n",
      "alpha=0.9, reward=-0.20870\n",
      "alpha=0.95, reward=-0.20882\n",
      "CPU times: user 13min 7s, sys: 905 ms, total: 13min 8s\n",
      "Wall time: 13min 8s\n"
     ]
    }
   ],
   "source": [
    "%%time\n",
    "for alpha in [0.0001, 0.001, 0.01, 0.1, 0.2, 0.3, 0.4, 0.5, 0.6, 0.7, 0.8, 0.9, 0.95]:\n",
    "    tries = 5\n",
    "    reward = 0\n",
    "    \n",
    "    for i in range(tries):\n",
    "        Q, rewards = montecarlo_control(env, num_episodes=1000, alpha=alpha, eps_min=0.1, verbose=False)\n",
    "        reward += estimate_reward(Q)\n",
    "        \n",
    "    print(f'alpha={alpha}, reward={(reward / tries):.5f}')"
   ]
  },
  {
   "cell_type": "code",
   "execution_count": 32,
   "id": "a2e7def2",
   "metadata": {},
   "outputs": [
    {
     "name": "stdout",
     "output_type": "stream",
     "text": [
      "gamma=0.5, reward=-0.18257\n",
      "gamma=0.6, reward=-0.20146\n",
      "gamma=0.7, reward=-0.20154\n",
      "gamma=0.8, reward=-0.20597\n",
      "gamma=0.9, reward=-0.22093\n",
      "gamma=0.95, reward=-0.20628\n",
      "gamma=1.0, reward=-0.20435\n",
      "CPU times: user 7min 12s, sys: 510 ms, total: 7min 12s\n",
      "Wall time: 7min 12s\n"
     ]
    }
   ],
   "source": [
    "%%time\n",
    "for gamma in [0.5, 0.6, 0.7, 0.8, 0.9, 0.95, 1.0]:\n",
    "    tries = 5\n",
    "    reward = 0\n",
    "    \n",
    "    for i in range(tries):\n",
    "        Q, rewards = montecarlo_control(env, num_episodes=1000, \n",
    "                                alpha=0.2, eps_min=0.1, gamma=gamma, verbose=False)\n",
    "        reward += estimate_reward(Q)\n",
    "        \n",
    "    print(f'gamma={gamma}, reward={(reward / tries):.5f}')"
   ]
  },
  {
   "cell_type": "code",
   "execution_count": 33,
   "id": "0b530992",
   "metadata": {},
   "outputs": [
    {
     "name": "stdout",
     "output_type": "stream",
     "text": [
      "Episode 1000 / 100000. Avg reward: -0.241\n",
      "Episode 2000 / 100000. Avg reward: -0.195\n",
      "Episode 3000 / 100000. Avg reward: -0.116\n",
      "Episode 4000 / 100000. Avg reward: -0.162\n",
      "Episode 5000 / 100000. Avg reward: -0.162\n",
      "Episode 6000 / 100000. Avg reward: -0.074\n",
      "Episode 7000 / 100000. Avg reward: -0.069\n",
      "Episode 8000 / 100000. Avg reward: -0.13\n",
      "Episode 9000 / 100000. Avg reward: -0.176\n",
      "Episode 10000 / 100000. Avg reward: -0.145\n",
      "Episode 11000 / 100000. Avg reward: -0.073\n",
      "Episode 12000 / 100000. Avg reward: -0.154\n",
      "Episode 13000 / 100000. Avg reward: -0.087\n",
      "Episode 14000 / 100000. Avg reward: -0.119\n",
      "Episode 15000 / 100000. Avg reward: -0.106\n",
      "Episode 16000 / 100000. Avg reward: -0.11\n",
      "Episode 17000 / 100000. Avg reward: -0.048\n",
      "Episode 18000 / 100000. Avg reward: -0.159\n",
      "Episode 19000 / 100000. Avg reward: -0.112\n",
      "Episode 20000 / 100000. Avg reward: -0.092\n",
      "Episode 21000 / 100000. Avg reward: -0.084\n",
      "Episode 22000 / 100000. Avg reward: -0.056\n",
      "Episode 23000 / 100000. Avg reward: -0.051\n",
      "Episode 24000 / 100000. Avg reward: -0.096\n",
      "Episode 25000 / 100000. Avg reward: -0.074\n",
      "Episode 26000 / 100000. Avg reward: -0.108\n",
      "Episode 27000 / 100000. Avg reward: -0.086\n",
      "Episode 28000 / 100000. Avg reward: -0.076\n",
      "Episode 29000 / 100000. Avg reward: -0.16\n",
      "Episode 30000 / 100000. Avg reward: -0.031\n",
      "Episode 31000 / 100000. Avg reward: -0.081\n",
      "Episode 32000 / 100000. Avg reward: -0.039\n",
      "Episode 33000 / 100000. Avg reward: -0.048\n",
      "Episode 34000 / 100000. Avg reward: -0.042\n",
      "Episode 35000 / 100000. Avg reward: -0.092\n",
      "Episode 36000 / 100000. Avg reward: -0.09\n",
      "Episode 37000 / 100000. Avg reward: -0.093\n",
      "Episode 38000 / 100000. Avg reward: -0.148\n",
      "Episode 39000 / 100000. Avg reward: -0.067\n",
      "Episode 40000 / 100000. Avg reward: -0.134\n",
      "Episode 41000 / 100000. Avg reward: -0.023\n",
      "Episode 42000 / 100000. Avg reward: -0.1\n",
      "Episode 43000 / 100000. Avg reward: 0.0\n",
      "Episode 44000 / 100000. Avg reward: -0.043\n",
      "Episode 45000 / 100000. Avg reward: -0.09\n",
      "Episode 46000 / 100000. Avg reward: -0.052\n",
      "Episode 47000 / 100000. Avg reward: -0.121\n",
      "Episode 48000 / 100000. Avg reward: -0.048\n",
      "Episode 49000 / 100000. Avg reward: -0.058\n",
      "Episode 50000 / 100000. Avg reward: -0.002\n",
      "Episode 51000 / 100000. Avg reward: -0.109\n",
      "Episode 52000 / 100000. Avg reward: -0.136\n",
      "Episode 53000 / 100000. Avg reward: -0.14\n",
      "Episode 54000 / 100000. Avg reward: -0.079\n",
      "Episode 55000 / 100000. Avg reward: -0.083\n",
      "Episode 56000 / 100000. Avg reward: -0.083\n",
      "Episode 57000 / 100000. Avg reward: -0.081\n",
      "Episode 58000 / 100000. Avg reward: -0.121\n",
      "Episode 59000 / 100000. Avg reward: -0.04\n",
      "Episode 60000 / 100000. Avg reward: -0.048\n",
      "Episode 61000 / 100000. Avg reward: -0.111\n",
      "Episode 62000 / 100000. Avg reward: -0.075\n",
      "Episode 63000 / 100000. Avg reward: -0.118\n",
      "Episode 64000 / 100000. Avg reward: -0.073\n",
      "Episode 65000 / 100000. Avg reward: -0.082\n",
      "Episode 66000 / 100000. Avg reward: -0.06\n",
      "Episode 67000 / 100000. Avg reward: -0.068\n",
      "Episode 68000 / 100000. Avg reward: -0.049\n",
      "Episode 69000 / 100000. Avg reward: 0.023\n",
      "Episode 70000 / 100000. Avg reward: -0.034\n",
      "Episode 71000 / 100000. Avg reward: -0.117\n",
      "Episode 72000 / 100000. Avg reward: -0.02\n",
      "Episode 73000 / 100000. Avg reward: -0.09\n",
      "Episode 74000 / 100000. Avg reward: -0.056\n",
      "Episode 75000 / 100000. Avg reward: -0.017\n",
      "Episode 76000 / 100000. Avg reward: -0.044\n",
      "Episode 77000 / 100000. Avg reward: -0.042\n",
      "Episode 78000 / 100000. Avg reward: -0.112\n",
      "Episode 79000 / 100000. Avg reward: -0.093\n",
      "Episode 80000 / 100000. Avg reward: -0.039\n",
      "Episode 81000 / 100000. Avg reward: -0.067\n",
      "Episode 82000 / 100000. Avg reward: -0.086\n",
      "Episode 83000 / 100000. Avg reward: -0.122\n",
      "Episode 84000 / 100000. Avg reward: -0.074\n",
      "Episode 85000 / 100000. Avg reward: -0.059\n",
      "Episode 86000 / 100000. Avg reward: -0.128\n",
      "Episode 87000 / 100000. Avg reward: -0.09\n",
      "Episode 88000 / 100000. Avg reward: -0.09\n",
      "Episode 89000 / 100000. Avg reward: -0.081\n",
      "Episode 90000 / 100000. Avg reward: -0.05\n",
      "Episode 91000 / 100000. Avg reward: -0.104\n",
      "Episode 92000 / 100000. Avg reward: -0.12\n",
      "Episode 93000 / 100000. Avg reward: -0.099\n",
      "Episode 94000 / 100000. Avg reward: -0.06\n",
      "Episode 95000 / 100000. Avg reward: -0.092\n",
      "Episode 96000 / 100000. Avg reward: -0.061\n",
      "Episode 97000 / 100000. Avg reward: -0.027\n",
      "Episode 98000 / 100000. Avg reward: -0.096\n",
      "Episode 99000 / 100000. Avg reward: -0.106\n",
      "CPU times: user 22min 43s, sys: 1.65 s, total: 22min 45s\n",
      "Wall time: 22min 45s\n"
     ]
    }
   ],
   "source": [
    "%%time\n",
    "\n",
    "Q, rewards = montecarlo_control(env, N_iterations, \n",
    "                                alpha=0.1, eps_min=0.01, gamma=0.8, \n",
    "                                verbose_batch_size=N_verbose_batch_size)"
   ]
  },
  {
   "cell_type": "code",
   "execution_count": 34,
   "id": "22788005",
   "metadata": {},
   "outputs": [
    {
     "data": {
      "text/plain": [
       "-0.06394"
      ]
     },
     "execution_count": 34,
     "metadata": {},
     "output_type": "execute_result"
    }
   ],
   "source": [
    "# estimated reward\n",
    "estimate_reward(Q)"
   ]
  },
  {
   "cell_type": "code",
   "execution_count": 35,
   "id": "541e8b48",
   "metadata": {},
   "outputs": [
    {
     "data": {
      "image/png": "[encoded data removed]",
      "text/plain": [
       "<Figure size 432x288 with 1 Axes>"
      ]
     },
     "metadata": {
      "needs_background": "light"
     },
     "output_type": "display_data"
    }
   ],
   "source": [
    "plt.plot(list(range(len(rewards))), rewards)\n",
    "plt.title(\"rewards during learning process\")\n",
    "plt.ylabel(\"average reward\")\n",
    "plt.xlabel(\"learning iteration, x1000\")\n",
    "plt.show()"
   ]
  },
  {
   "cell_type": "code",
   "execution_count": 36,
   "id": "92a8ac9c",
   "metadata": {},
   "outputs": [],
   "source": [
    "policy = policy_from_Q(Q)"
   ]
  },
  {
   "cell_type": "code",
   "execution_count": 37,
   "id": "14c83349",
   "metadata": {},
   "outputs": [
    {
     "data": {
      "image/png": "[encoded data removed]",
      "text/plain": [
       "<Figure size 1080x1080 with 4 Axes>"
      ]
     },
     "metadata": {
      "needs_background": "light"
     },
     "output_type": "display_data"
    }
   ],
   "source": [
    "plot_policy(policy)"
   ]
  },
  {
   "cell_type": "markdown",
   "id": "d94f6265",
   "metadata": {},
   "source": [
    "## Часть третья, в главной роли — Дастин Хоффман\n",
    "А теперь давайте вспомним, как играют в блекджек настоящие профессионалы. Дело в\n",
    "том, что в оффлайн-казино обычно не перемешивают колоду после каждой раздачи — это\n",
    "слишком замедляло бы игру. После раздачи карты просто раздаются дальше с верха\n",
    "колоды до тех пор, пока карт не останется слишком мало, и только тогда колода перемешивается; давайте для определённости считать, что наше казино будет перемешивать колоду, в которой осталось меньше 15 карт.\n",
    "\n",
    "Действительно, если вы будете запоминать, какие карты уже вышли, у вас будет\n",
    "информация о том, какие карты ещё остались, а это позволяет лучше понять, когда нужно\n",
    "удваивать ставку или делать split, а когда лучше не стоит. В настоящем казино могут\n",
    "раздавать карты сразу из нескольких колод, и заслуга Rain Man’а была в том, что он смог\n",
    "считать карты в шести колодах одновременно. Но мы с вами вооружены компьютерами,\n",
    "так что подсчёт можно считать автоматическим.\n",
    "\n",
    "6. Реализуйте вариант окружения BlackjackEnv из предыдущей части (с удвоением), в\n",
    "котором игрок имеет возможность “считать карты” в колоде. Это можно сделать\n",
    "разными способами; возможно, вам поможет статья википедии о блекджеке (а\n",
    "возможно, и нет).\n",
    "7. Реализуйте метод обучения с подкреплением без модели для этого варианта,\n",
    "постройте графики, аналогичные п.2."
   ]
  },
  {
   "cell_type": "code",
   "execution_count": 4,
   "id": "e625f453",
   "metadata": {},
   "outputs": [],
   "source": [
    "from blackjack_count import BlackjackEnvCount\n",
    "\n",
    "env = BlackjackEnvCount(natural=True)"
   ]
  },
  {
   "cell_type": "code",
   "execution_count": 5,
   "id": "5137f6bd",
   "metadata": {},
   "outputs": [
    {
     "data": {
      "text/plain": [
       "48"
      ]
     },
     "execution_count": 5,
     "metadata": {},
     "output_type": "execute_result"
    }
   ],
   "source": [
    "# validate that card countring works\n",
    "assert len(env.deck) == 52\n",
    "env.reset()\n",
    "assert len(env.deck) == 48\n",
    "env.step(1)\n",
    "assert len(env.deck) == 47\n",
    "env.reset()\n",
    "assert len(env.deck) == 43\n",
    "\n",
    "for _ in range(14, 43):\n",
    "    env.step(1)\n",
    "    \n",
    "assert len(env.deck) == 14\n",
    "env.reset()\n",
    "\n",
    "# deck shuffled and reseted\n",
    "assert len(env.deck) > 40\n",
    "len(env.deck)"
   ]
  },
  {
   "cell_type": "code",
   "execution_count": 6,
   "id": "4ac1f25c",
   "metadata": {},
   "outputs": [],
   "source": [
    "# counting cards with the simplest schema\n",
    "\n",
    "# 2,3,4,5,6 - +1\n",
    "# 7,8,9 - +0\n",
    "# 10, 11 - -1\n",
    "\n",
    "cards_counter = 0\n",
    "\n",
    "def count_card(card):\n",
    "    global cards_counter\n",
    "    if card < 7:\n",
    "        cards_counter += 1\n",
    "    if card >= 10:\n",
    "        cards_counter -= 1\n",
    "\n",
    "def count_cards(cards):\n",
    "    for card in cards:\n",
    "        count_card(card)"
   ]
  },
  {
   "cell_type": "code",
   "execution_count": 10,
   "id": "f55ddd3c",
   "metadata": {},
   "outputs": [],
   "source": [
    "def generate_episode_from_Q(env, Q, epsilon, nA):\n",
    "    global cards_counter\n",
    "    episode = []\n",
    "    state, is_deck_shuffled = env.reset()\n",
    "    \n",
    "    if is_deck_shuffled:\n",
    "        cards_counter = 0\n",
    "        \n",
    "    # we can see only one dealer's card, but both our cards\n",
    "    count_cards((env.dealer[0], env.player[0], env.player[1]))\n",
    "    \n",
    "    while True:\n",
    "        state = (*state, cards_counter)\n",
    "        action = np.random.choice(np.arange(nA), p=get_probs(Q[state], epsilon, nA)) \\\n",
    "            if state in Q else env.action_space.sample()\n",
    "        next_state, reward, done, _, _ = env.step(action)\n",
    "        count_card(env.player[-1])\n",
    "        episode.append((state, action, reward))\n",
    "        state = next_state\n",
    "        \n",
    "        if done:\n",
    "            break\n",
    "            \n",
    "    # now we can see all dealer's cards\n",
    "    count_cards(env.dealer[1:])\n",
    "    return episode\n",
    "\n",
    "\n",
    "def montecarlo_control(env, num_episodes, alpha, gamma=1.0, eps_min=0.01, verbose=True, verbose_batch_size=5000):\n",
    "    n_actions = env.action_space.n\n",
    "    Q = defaultdict(lambda: np.zeros(n_actions))\n",
    "    total_reward = 0.\n",
    "    rewards = []\n",
    "    \n",
    "    for i in range(num_episodes):\n",
    "        eps = max(1.0 / (i+1), eps_min)\n",
    "        episode = generate_episode_from_Q(env, Q, eps, n_actions)\n",
    "        Q = update_Q(env, episode, Q, alpha, gamma)\n",
    "        cur_reward = episode[-1][-1]\n",
    "        total_reward += cur_reward\n",
    "        \n",
    "        if i % verbose_batch_size == 0 and i > 0 and verbose:\n",
    "            print(f\"Episode {i} / {num_episodes}. Avg reward: {total_reward/verbose_batch_size}\")\n",
    "            total_reward = 0.\n",
    "            rewards.append(estimate_reward(Q))\n",
    "            \n",
    "    return Q, rewards"
   ]
  },
  {
   "cell_type": "code",
   "execution_count": 11,
   "id": "e9ba1297",
   "metadata": {},
   "outputs": [
    {
     "name": "stdout",
     "output_type": "stream",
     "text": [
      "Episode 50000 / 10000000. Avg reward: -0.18242\n",
      "Episode 100000 / 10000000. Avg reward: -0.12163\n",
      "Episode 150000 / 10000000. Avg reward: -0.09967\n",
      "Episode 200000 / 10000000. Avg reward: -0.0826\n",
      "Episode 250000 / 10000000. Avg reward: -0.07732\n",
      "Episode 300000 / 10000000. Avg reward: -0.0746\n",
      "Episode 350000 / 10000000. Avg reward: -0.069\n",
      "Episode 400000 / 10000000. Avg reward: -0.05633\n",
      "Episode 450000 / 10000000. Avg reward: -0.06511\n",
      "Episode 500000 / 10000000. Avg reward: -0.05844\n",
      "Episode 550000 / 10000000. Avg reward: -0.05991\n",
      "Episode 600000 / 10000000. Avg reward: -0.05344\n",
      "Episode 650000 / 10000000. Avg reward: -0.04527\n",
      "Episode 700000 / 10000000. Avg reward: -0.05208\n",
      "Episode 750000 / 10000000. Avg reward: -0.04449\n",
      "Episode 800000 / 10000000. Avg reward: -0.06154\n",
      "Episode 850000 / 10000000. Avg reward: -0.04685\n",
      "Episode 900000 / 10000000. Avg reward: -0.05638\n",
      "Episode 950000 / 10000000. Avg reward: -0.0551\n",
      "Episode 1000000 / 10000000. Avg reward: -0.04822\n",
      "Episode 1050000 / 10000000. Avg reward: -0.03369\n",
      "Episode 1100000 / 10000000. Avg reward: -0.05164\n",
      "Episode 1150000 / 10000000. Avg reward: -0.04377\n",
      "Episode 1200000 / 10000000. Avg reward: -0.03752\n",
      "Episode 1250000 / 10000000. Avg reward: -0.04406\n",
      "Episode 1300000 / 10000000. Avg reward: -0.04223\n",
      "Episode 1350000 / 10000000. Avg reward: -0.05554\n",
      "Episode 1400000 / 10000000. Avg reward: -0.04337\n",
      "Episode 1450000 / 10000000. Avg reward: -0.04774\n",
      "Episode 1500000 / 10000000. Avg reward: -0.04158\n",
      "Episode 1550000 / 10000000. Avg reward: -0.04749\n",
      "Episode 1600000 / 10000000. Avg reward: -0.03749\n",
      "Episode 1650000 / 10000000. Avg reward: -0.04767\n",
      "Episode 1700000 / 10000000. Avg reward: -0.03207\n",
      "Episode 1750000 / 10000000. Avg reward: -0.04195\n",
      "Episode 1800000 / 10000000. Avg reward: -0.04353\n",
      "Episode 1850000 / 10000000. Avg reward: -0.04613\n",
      "Episode 1900000 / 10000000. Avg reward: -0.04244\n",
      "Episode 1950000 / 10000000. Avg reward: -0.0427\n",
      "Episode 2000000 / 10000000. Avg reward: -0.04389\n",
      "Episode 2050000 / 10000000. Avg reward: -0.04611\n",
      "Episode 2100000 / 10000000. Avg reward: -0.04206\n",
      "Episode 2150000 / 10000000. Avg reward: -0.04146\n",
      "Episode 2200000 / 10000000. Avg reward: -0.04134\n",
      "Episode 2250000 / 10000000. Avg reward: -0.04702\n",
      "Episode 2300000 / 10000000. Avg reward: -0.04729\n",
      "Episode 2350000 / 10000000. Avg reward: -0.04096\n",
      "Episode 2400000 / 10000000. Avg reward: -0.03517\n",
      "Episode 2450000 / 10000000. Avg reward: -0.04387\n",
      "Episode 2500000 / 10000000. Avg reward: -0.04511\n",
      "Episode 2550000 / 10000000. Avg reward: -0.04087\n",
      "Episode 2600000 / 10000000. Avg reward: -0.03758\n",
      "Episode 2650000 / 10000000. Avg reward: -0.04296\n",
      "Episode 2700000 / 10000000. Avg reward: -0.03531\n",
      "Episode 2750000 / 10000000. Avg reward: -0.04528\n",
      "Episode 2800000 / 10000000. Avg reward: -0.03816\n",
      "Episode 2850000 / 10000000. Avg reward: -0.04076\n",
      "Episode 2900000 / 10000000. Avg reward: -0.04314\n",
      "Episode 2950000 / 10000000. Avg reward: -0.04058\n",
      "Episode 3000000 / 10000000. Avg reward: -0.05052\n",
      "Episode 3050000 / 10000000. Avg reward: -0.0355\n",
      "Episode 3100000 / 10000000. Avg reward: -0.0414\n",
      "Episode 3150000 / 10000000. Avg reward: -0.04287\n",
      "Episode 3200000 / 10000000. Avg reward: -0.03635\n",
      "Episode 3250000 / 10000000. Avg reward: -0.03383\n",
      "Episode 3300000 / 10000000. Avg reward: -0.0397\n",
      "Episode 3350000 / 10000000. Avg reward: -0.03589\n",
      "Episode 3400000 / 10000000. Avg reward: -0.03609\n",
      "Episode 3450000 / 10000000. Avg reward: -0.03764\n",
      "Episode 3500000 / 10000000. Avg reward: -0.03621\n",
      "Episode 3550000 / 10000000. Avg reward: -0.03707\n",
      "Episode 3600000 / 10000000. Avg reward: -0.03456\n",
      "Episode 3650000 / 10000000. Avg reward: -0.03817\n",
      "Episode 3700000 / 10000000. Avg reward: -0.04034\n",
      "Episode 3750000 / 10000000. Avg reward: -0.03783\n",
      "Episode 3800000 / 10000000. Avg reward: -0.0245\n",
      "Episode 3850000 / 10000000. Avg reward: -0.03253\n",
      "Episode 3900000 / 10000000. Avg reward: -0.0409\n",
      "Episode 3950000 / 10000000. Avg reward: -0.03398\n",
      "Episode 4000000 / 10000000. Avg reward: -0.03199\n",
      "Episode 4050000 / 10000000. Avg reward: -0.03501\n",
      "Episode 4100000 / 10000000. Avg reward: -0.03687\n",
      "Episode 4150000 / 10000000. Avg reward: -0.03456\n",
      "Episode 4200000 / 10000000. Avg reward: -0.02152\n",
      "Episode 4250000 / 10000000. Avg reward: -0.03057\n",
      "Episode 4300000 / 10000000. Avg reward: -0.02758\n",
      "Episode 4350000 / 10000000. Avg reward: -0.03403\n",
      "Episode 4400000 / 10000000. Avg reward: -0.03984\n",
      "Episode 4450000 / 10000000. Avg reward: -0.03552\n",
      "Episode 4500000 / 10000000. Avg reward: -0.03429\n",
      "Episode 4550000 / 10000000. Avg reward: -0.03568\n",
      "Episode 4600000 / 10000000. Avg reward: -0.03802\n",
      "Episode 4650000 / 10000000. Avg reward: -0.02842\n",
      "Episode 4700000 / 10000000. Avg reward: -0.0379\n",
      "Episode 4750000 / 10000000. Avg reward: -0.03599\n",
      "Episode 4800000 / 10000000. Avg reward: -0.03208\n",
      "Episode 4850000 / 10000000. Avg reward: -0.03027\n",
      "Episode 4900000 / 10000000. Avg reward: -0.03789\n",
      "Episode 4950000 / 10000000. Avg reward: -0.04107\n",
      "Episode 5000000 / 10000000. Avg reward: -0.03272\n",
      "Episode 5050000 / 10000000. Avg reward: -0.035\n",
      "Episode 5100000 / 10000000. Avg reward: -0.03245\n",
      "Episode 5150000 / 10000000. Avg reward: -0.03418\n",
      "Episode 5200000 / 10000000. Avg reward: -0.0285\n",
      "Episode 5250000 / 10000000. Avg reward: -0.04059\n",
      "Episode 5300000 / 10000000. Avg reward: -0.02872\n",
      "Episode 5350000 / 10000000. Avg reward: -0.04562\n",
      "Episode 5400000 / 10000000. Avg reward: -0.0356\n",
      "Episode 5450000 / 10000000. Avg reward: -0.03313\n",
      "Episode 5500000 / 10000000. Avg reward: -0.03315\n",
      "Episode 5550000 / 10000000. Avg reward: -0.04142\n",
      "Episode 5600000 / 10000000. Avg reward: -0.04261\n",
      "Episode 5650000 / 10000000. Avg reward: -0.0374\n",
      "Episode 5700000 / 10000000. Avg reward: -0.02733\n",
      "Episode 5750000 / 10000000. Avg reward: -0.03847\n",
      "Episode 5800000 / 10000000. Avg reward: -0.03586\n",
      "Episode 5850000 / 10000000. Avg reward: -0.02881\n",
      "Episode 5900000 / 10000000. Avg reward: -0.04035\n",
      "Episode 5950000 / 10000000. Avg reward: -0.03551\n",
      "Episode 6000000 / 10000000. Avg reward: -0.04215\n",
      "Episode 6050000 / 10000000. Avg reward: -0.0344\n",
      "Episode 6100000 / 10000000. Avg reward: -0.03566\n",
      "Episode 6150000 / 10000000. Avg reward: -0.0395\n",
      "Episode 6200000 / 10000000. Avg reward: -0.03562\n",
      "Episode 6250000 / 10000000. Avg reward: -0.03466\n",
      "Episode 6300000 / 10000000. Avg reward: -0.02975\n",
      "Episode 6350000 / 10000000. Avg reward: -0.0375\n",
      "Episode 6400000 / 10000000. Avg reward: -0.03692\n",
      "Episode 6450000 / 10000000. Avg reward: -0.03309\n",
      "Episode 6500000 / 10000000. Avg reward: -0.03008\n",
      "Episode 6550000 / 10000000. Avg reward: -0.03392\n",
      "Episode 6600000 / 10000000. Avg reward: -0.03307\n",
      "Episode 6650000 / 10000000. Avg reward: -0.03432\n",
      "Episode 6700000 / 10000000. Avg reward: -0.03387\n",
      "Episode 6750000 / 10000000. Avg reward: -0.03861\n",
      "Episode 6800000 / 10000000. Avg reward: -0.02651\n",
      "Episode 6850000 / 10000000. Avg reward: -0.02735\n",
      "Episode 6900000 / 10000000. Avg reward: -0.03696\n",
      "Episode 6950000 / 10000000. Avg reward: -0.03378\n",
      "Episode 7000000 / 10000000. Avg reward: -0.04045\n",
      "Episode 7050000 / 10000000. Avg reward: -0.03583\n",
      "Episode 7100000 / 10000000. Avg reward: -0.03984\n",
      "Episode 7150000 / 10000000. Avg reward: -0.03217\n",
      "Episode 7200000 / 10000000. Avg reward: -0.03269\n",
      "Episode 7250000 / 10000000. Avg reward: -0.03602\n",
      "Episode 7300000 / 10000000. Avg reward: -0.03759\n",
      "Episode 7350000 / 10000000. Avg reward: -0.03502\n",
      "Episode 7400000 / 10000000. Avg reward: -0.03555\n",
      "Episode 7450000 / 10000000. Avg reward: -0.03677\n",
      "Episode 7500000 / 10000000. Avg reward: -0.03788\n",
      "Episode 7550000 / 10000000. Avg reward: -0.03692\n",
      "Episode 7600000 / 10000000. Avg reward: -0.04084\n",
      "Episode 7650000 / 10000000. Avg reward: -0.03516\n",
      "Episode 7700000 / 10000000. Avg reward: -0.03678\n",
      "Episode 7750000 / 10000000. Avg reward: -0.03034\n",
      "Episode 7800000 / 10000000. Avg reward: -0.04219\n",
      "Episode 7850000 / 10000000. Avg reward: -0.03428\n",
      "Episode 7900000 / 10000000. Avg reward: -0.03621\n",
      "Episode 7950000 / 10000000. Avg reward: -0.03989\n",
      "Episode 8000000 / 10000000. Avg reward: -0.03001\n",
      "Episode 8050000 / 10000000. Avg reward: -0.02625\n",
      "Episode 8100000 / 10000000. Avg reward: -0.04478\n",
      "Episode 8150000 / 10000000. Avg reward: -0.03642\n",
      "Episode 8200000 / 10000000. Avg reward: -0.02953\n",
      "Episode 8250000 / 10000000. Avg reward: -0.03313\n",
      "Episode 8300000 / 10000000. Avg reward: -0.02862\n",
      "Episode 8350000 / 10000000. Avg reward: -0.03551\n",
      "Episode 8400000 / 10000000. Avg reward: -0.03041\n",
      "Episode 8450000 / 10000000. Avg reward: -0.02837\n"
     ]
    },
    {
     "name": "stdout",
     "output_type": "stream",
     "text": [
      "Episode 8500000 / 10000000. Avg reward: -0.03429\n",
      "Episode 8550000 / 10000000. Avg reward: -0.03552\n",
      "Episode 8600000 / 10000000. Avg reward: -0.0335\n",
      "Episode 8650000 / 10000000. Avg reward: -0.03096\n",
      "Episode 8700000 / 10000000. Avg reward: -0.03909\n",
      "Episode 8750000 / 10000000. Avg reward: -0.03311\n",
      "Episode 8800000 / 10000000. Avg reward: -0.02655\n",
      "Episode 8850000 / 10000000. Avg reward: -0.03696\n",
      "Episode 8900000 / 10000000. Avg reward: -0.03676\n",
      "Episode 8950000 / 10000000. Avg reward: -0.03668\n",
      "Episode 9000000 / 10000000. Avg reward: -0.03841\n",
      "Episode 9050000 / 10000000. Avg reward: -0.0367\n",
      "Episode 9100000 / 10000000. Avg reward: -0.03527\n",
      "Episode 9150000 / 10000000. Avg reward: -0.03946\n",
      "Episode 9200000 / 10000000. Avg reward: -0.03891\n",
      "Episode 9250000 / 10000000. Avg reward: -0.03495\n",
      "Episode 9300000 / 10000000. Avg reward: -0.0413\n",
      "Episode 9350000 / 10000000. Avg reward: -0.03747\n",
      "Episode 9400000 / 10000000. Avg reward: -0.03502\n",
      "Episode 9450000 / 10000000. Avg reward: -0.02883\n",
      "Episode 9500000 / 10000000. Avg reward: -0.04468\n",
      "Episode 9550000 / 10000000. Avg reward: -0.03503\n",
      "Episode 9600000 / 10000000. Avg reward: -0.03065\n",
      "Episode 9650000 / 10000000. Avg reward: -0.03483\n",
      "Episode 9700000 / 10000000. Avg reward: -0.03455\n",
      "Episode 9750000 / 10000000. Avg reward: -0.03422\n",
      "Episode 9800000 / 10000000. Avg reward: -0.03382\n",
      "Episode 9850000 / 10000000. Avg reward: -0.031\n",
      "Episode 9900000 / 10000000. Avg reward: -0.02958\n",
      "Episode 9950000 / 10000000. Avg reward: -0.03226\n",
      "CPU times: user 1h 22min 55s, sys: 12.3 s, total: 1h 23min 7s\n",
      "Wall time: 1h 23min 24s\n"
     ]
    }
   ],
   "source": [
    "%%time\n",
    "\n",
    "N_verbose_batch_size = 50000\n",
    "N_iterations = N_verbose_batch_size * 200\n",
    "\n",
    "Q, rewards = montecarlo_control(env, N_iterations, \n",
    "                                alpha=0.1, gamma=1, eps_min=0.001,\n",
    "                                verbose_batch_size=N_verbose_batch_size)"
   ]
  },
  {
   "cell_type": "code",
   "execution_count": 12,
   "id": "4c877e4a",
   "metadata": {},
   "outputs": [
    {
     "data": {
      "text/plain": [
       "-0.0310635"
      ]
     },
     "execution_count": 12,
     "metadata": {},
     "output_type": "execute_result"
    }
   ],
   "source": [
    "# estimated reward\n",
    "estimate_reward(Q, 1000000)"
   ]
  },
  {
   "cell_type": "code",
   "execution_count": 14,
   "id": "376551b2",
   "metadata": {},
   "outputs": [
    {
     "data": {
      "image/png": "[encoded data removed]",
      "text/plain": [
       "<Figure size 432x288 with 1 Axes>"
      ]
     },
     "metadata": {
      "needs_background": "light"
     },
     "output_type": "display_data"
    }
   ],
   "source": [
    "plt.plot(list(range(len(rewards))), rewards)\n",
    "plt.title(\"Rewards during learning process\")\n",
    "plt.ylabel(\"Average reward\")\n",
    "plt.xlabel(\"Learning iteration, x200\")\n",
    "plt.show()"
   ]
  },
  {
   "cell_type": "code",
   "execution_count": 15,
   "id": "64b1fd58",
   "metadata": {},
   "outputs": [],
   "source": [
    "policy = policy_from_Q(Q)"
   ]
  },
  {
   "cell_type": "code",
   "execution_count": 16,
   "id": "68a2062e",
   "metadata": {},
   "outputs": [],
   "source": [
    "def plot_policy(policy, card_count):\n",
    "\n",
    "    def get_Z(x, y, usable_ace, card_count):\n",
    "        if (x,y,usable_ace, card_count) in policy:\n",
    "            \n",
    "            return policy[(x,y,usable_ace, card_count)]\n",
    "        else:\n",
    "            return 1\n",
    "\n",
    "    def get_figure(usable_ace, ax):\n",
    "        x_range = np.arange(11, 22)\n",
    "        y_range = np.arange(10, 0, -1)\n",
    "        X, Y = np.meshgrid(x_range, y_range)\n",
    "        Z = np.array([[get_Z(x,y,usable_ace, card_count) for x in x_range] for y in y_range])\n",
    "        surf = ax.imshow(Z, cmap=plt.get_cmap('bone'), vmin=0, vmax=2, extent=[10.5, 21.5, 0.5, 10.5])\n",
    "        plt.xticks(x_range)\n",
    "        plt.yticks(y_range)\n",
    "        plt.gca().invert_yaxis()\n",
    "        ax.set_xlabel('Player\\'s Current Sum')\n",
    "        ax.set_ylabel('Dealer\\'s Showing Card')\n",
    "        ax.grid(color='w', linestyle='-', linewidth=1)\n",
    "        divider = make_axes_locatable(ax)\n",
    "        cax = divider.append_axes(\"right\", size=\"5%\", pad=0.1)\n",
    "        cbar = plt.colorbar(surf, ticks=[0,1,2], cax=cax)\n",
    "        cbar.ax.set_yticklabels(['0 (STICK)','1 (HIT)', '2 (DOUBLE)'])\n",
    "            \n",
    "    fig = plt.figure(figsize=(15, 15))\n",
    "    ax = fig.add_subplot(121)\n",
    "    ax.set_title('Usable Ace')\n",
    "    get_figure(True, ax)\n",
    "    ax = fig.add_subplot(122)\n",
    "    ax.set_title('No Usable Ace')\n",
    "    get_figure(False, ax)\n",
    "    plt.show()"
   ]
  },
  {
   "cell_type": "code",
   "execution_count": 17,
   "id": "ed0c69bb",
   "metadata": {
    "scrolled": false
   },
   "outputs": [
    {
     "name": "stdout",
     "output_type": "stream",
     "text": [
      "card count: -10\n"
     ]
    },
    {
     "data": {
      "image/png": "[encoded data removed]",
      "text/plain": [
       "<Figure size 1080x1080 with 4 Axes>"
      ]
     },
     "metadata": {
      "needs_background": "light"
     },
     "output_type": "display_data"
    },
    {
     "name": "stdout",
     "output_type": "stream",
     "text": [
      "card count: -7\n"
     ]
    },
    {
     "data": {
      "image/png": "[encoded data removed]",
      "text/plain": [
       "<Figure size 1080x1080 with 4 Axes>"
      ]
     },
     "metadata": {
      "needs_background": "light"
     },
     "output_type": "display_data"
    },
    {
     "name": "stdout",
     "output_type": "stream",
     "text": [
      "card count: -4\n"
     ]
    },
    {
     "data": {
      "image/png": "[encoded data removed]",
      "text/plain": [
       "<Figure size 1080x1080 with 4 Axes>"
      ]
     },
     "metadata": {
      "needs_background": "light"
     },
     "output_type": "display_data"
    },
    {
     "name": "stdout",
     "output_type": "stream",
     "text": [
      "card count: -1\n"
     ]
    },
    {
     "data": {
      "image/png": "[encoded data removed]",
      "text/plain": [
       "<Figure size 1080x1080 with 4 Axes>"
      ]
     },
     "metadata": {
      "needs_background": "light"
     },
     "output_type": "display_data"
    },
    {
     "name": "stdout",
     "output_type": "stream",
     "text": [
      "card count: 2\n"
     ]
    },
    {
     "data": {
      "image/png": "[encoded data removed]",
      "text/plain": [
       "<Figure size 1080x1080 with 4 Axes>"
      ]
     },
     "metadata": {
      "needs_background": "light"
     },
     "output_type": "display_data"
    },
    {
     "name": "stdout",
     "output_type": "stream",
     "text": [
      "card count: 5\n"
     ]
    },
    {
     "data": {
      "image/png": "[encoded data removed]",
      "text/plain": [
       "<Figure size 1080x1080 with 4 Axes>"
      ]
     },
     "metadata": {
      "needs_background": "light"
     },
     "output_type": "display_data"
    },
    {
     "name": "stdout",
     "output_type": "stream",
     "text": [
      "card count: 8\n"
     ]
    },
    {
     "data": {
      "image/png": "[encoded data removed]",
      "text/plain": [
       "<Figure size 1080x1080 with 4 Axes>"
      ]
     },
     "metadata": {
      "needs_background": "light"
     },
     "output_type": "display_data"
    }
   ],
   "source": [
    "for card_count in range(-10, 10, 3):\n",
    "    print(f\"card count: {card_count}\")\n",
    "    plot_policy(policy, card_count)"
   ]
  },
  {
   "cell_type": "markdown",
   "id": "c1f81e18",
   "metadata": {},
   "source": [
    "With simple strategy \"19, 20, 21\" the reward is -0.198529\n",
    "\n",
    "On basic Blackjack environment Q-learning reached -0.109 and Monte Carlo control gave -0.05551. Because of these scores I decided that MC control is more promising and evaluated later environments with this algorithm. \n",
    "\n",
    "After adding \"double\" to the environment my calculations with MC control showed -0.06394, I think it just didn't converge compeletely or some other hyperparameters are optimal.\n",
    "\n",
    "Blackjack with counts and double reached average reward of -0.0310635. It still loses money!"
   ]
  },
  {
   "cell_type": "code",
   "execution_count": null,
   "id": "9f792236",
   "metadata": {},
   "outputs": [],
   "source": []
  }
 ],
 "metadata": {
  "kernelspec": {
   "display_name": "Python 3",
   "language": "python",
   "name": "python3"
  },
  "language_info": {
   "codemirror_mode": {
    "name": "ipython",
    "version": 3
   },
   "file_extension": ".py",
   "mimetype": "text/x-python",
   "name": "python",
   "nbconvert_exporter": "python",
   "pygments_lexer": "ipython3",
   "version": "3.8.8"
  }
 },
 "nbformat": 4,
 "nbformat_minor": 5
}
